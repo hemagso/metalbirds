{
 "cells": [
  {
   "cell_type": "code",
   "execution_count": 1,
   "metadata": {
    "collapsed": true
   },
   "outputs": [],
   "source": [
    "import pandas as pd\n",
    "import langdetect"
   ]
  },
  {
   "cell_type": "code",
   "execution_count": 3,
   "metadata": {},
   "outputs": [
    {
     "data": {
      "text/html": [
       "<div>\n",
       "<style scoped>\n",
       "    .dataframe tbody tr th:only-of-type {\n",
       "        vertical-align: middle;\n",
       "    }\n",
       "\n",
       "    .dataframe tbody tr th {\n",
       "        vertical-align: top;\n",
       "    }\n",
       "\n",
       "    .dataframe thead th {\n",
       "        text-align: right;\n",
       "    }\n",
       "</style>\n",
       "<table border=\"1\" class=\"dataframe\">\n",
       "  <thead>\n",
       "    <tr style=\"text-align: right;\">\n",
       "      <th></th>\n",
       "      <th>Unnamed: 0</th>\n",
       "      <th>SongURL</th>\n",
       "      <th>SongName</th>\n",
       "      <th>BandURL</th>\n",
       "      <th>lyrics</th>\n",
       "    </tr>\n",
       "  </thead>\n",
       "  <tbody>\n",
       "    <tr>\n",
       "      <th>0</th>\n",
       "      <td>0</td>\n",
       "      <td>/lyrics-song/%21T.O.O.H.%21-Abu-Hassan-78298</td>\n",
       "      <td>Abu-Hassan</td>\n",
       "      <td>/lyrics/%21T.O.O.H.%21-6749</td>\n",
       "      <td>\\r\\r\\nTy hajzle, já mám tvojí dceru!\\r\\r\\r\\nZa...</td>\n",
       "    </tr>\n",
       "    <tr>\n",
       "      <th>1</th>\n",
       "      <td>1</td>\n",
       "      <td>/lyrics-song/%21T.O.O.H.%21-Accident-78253</td>\n",
       "      <td>Accident</td>\n",
       "      <td>/lyrics/%21T.O.O.H.%21-6749</td>\n",
       "      <td>\\r\\r\\nEnglish lyrics:\\r\\r\\n\\r\\r\\r\\nI committed...</td>\n",
       "    </tr>\n",
       "    <tr>\n",
       "      <th>2</th>\n",
       "      <td>2</td>\n",
       "      <td>/lyrics-song/%21T.O.O.H.%21-Al-Amin-%28Aneb-Ja...</td>\n",
       "      <td>Al-Amin (Aneb Jak Vycakat Jelito)</td>\n",
       "      <td>/lyrics/%21T.O.O.H.%21-6749</td>\n",
       "      <td>\\r\\r\\nV hlubokých lesích, temných hvozdech,… p...</td>\n",
       "    </tr>\n",
       "    <tr>\n",
       "      <th>3</th>\n",
       "      <td>3</td>\n",
       "      <td>/lyrics-song/%21T.O.O.H.%21-Analyza-Zahnedy-78295</td>\n",
       "      <td>Analyza Zahnedy</td>\n",
       "      <td>/lyrics/%21T.O.O.H.%21-6749</td>\n",
       "      <td>\\r\\r\\nZa nádražím uzřít\\r\\r\\r\\nOpilé homeleso\\...</td>\n",
       "    </tr>\n",
       "    <tr>\n",
       "      <th>4</th>\n",
       "      <td>4</td>\n",
       "      <td>/lyrics-song/%21T.O.O.H.%21-Aura-Ziata-78266</td>\n",
       "      <td>Aura &amp; Ziata</td>\n",
       "      <td>/lyrics/%21T.O.O.H.%21-6749</td>\n",
       "      <td>\\r\\r\\nAura a Ziata.\\r\\r\\r\\nDěvčata to k pohled...</td>\n",
       "    </tr>\n",
       "  </tbody>\n",
       "</table>\n",
       "</div>"
      ],
      "text/plain": [
       "<div>\n",
       "<style scoped>\n",
       "    .dataframe tbody tr th:only-of-type {\n",
       "        vertical-align: middle;\n",
       "    }\n",
       "\n",
       "    .dataframe tbody tr th {\n",
       "        vertical-align: top;\n",
       "    }\n",
       "\n",
       "    .dataframe thead th {\n",
       "        text-align: right;\n",
       "    }\n",
       "</style>\n",
       "<table border=\"1\" class=\"dataframe\">\n",
       "  <thead>\n",
       "    <tr style=\"text-align: right;\">\n",
       "      <th></th>\n",
       "      <th>Unnamed: 0</th>\n",
       "      <th>SongURL</th>\n",
       "      <th>SongName</th>\n",
       "      <th>BandURL</th>\n",
       "      <th>lyrics</th>\n",
       "    </tr>\n",
       "  </thead>\n",
       "  <tbody>\n",
       "    <tr>\n",
       "      <th>0</th>\n",
       "      <td>0</td>\n",
       "      <td>/lyrics-song/%21T.O.O.H.%21-Abu-Hassan-78298</td>\n",
       "      <td>Abu-Hassan</td>\n",
       "      <td>/lyrics/%21T.O.O.H.%21-6749</td>\n",
       "      <td>\\r\\r\\nTy hajzle, já mám tvojí dceru!\\r\\r\\r\\nZa...</td>\n",
       "    </tr>\n",
       "    <tr>\n",
       "      <th>1</th>\n",
       "      <td>1</td>\n",
       "      <td>/lyrics-song/%21T.O.O.H.%21-Accident-78253</td>\n",
       "      <td>Accident</td>\n",
       "      <td>/lyrics/%21T.O.O.H.%21-6749</td>\n",
       "      <td>\\r\\r\\nEnglish lyrics:\\r\\r\\n\\r\\r\\r\\nI committed...</td>\n",
       "    </tr>\n",
       "    <tr>\n",
       "      <th>2</th>\n",
       "      <td>2</td>\n",
       "      <td>/lyrics-song/%21T.O.O.H.%21-Al-Amin-%28Aneb-Ja...</td>\n",
       "      <td>Al-Amin (Aneb Jak Vycakat Jelito)</td>\n",
       "      <td>/lyrics/%21T.O.O.H.%21-6749</td>\n",
       "      <td>\\r\\r\\nV hlubokých lesích, temných hvozdech,… p...</td>\n",
       "    </tr>\n",
       "    <tr>\n",
       "      <th>3</th>\n",
       "      <td>3</td>\n",
       "      <td>/lyrics-song/%21T.O.O.H.%21-Analyza-Zahnedy-78295</td>\n",
       "      <td>Analyza Zahnedy</td>\n",
       "      <td>/lyrics/%21T.O.O.H.%21-6749</td>\n",
       "      <td>\\r\\r\\nZa nádražím uzřít\\r\\r\\r\\nOpilé homeleso\\...</td>\n",
       "    </tr>\n",
       "    <tr>\n",
       "      <th>4</th>\n",
       "      <td>4</td>\n",
       "      <td>/lyrics-song/%21T.O.O.H.%21-Aura-Ziata-78266</td>\n",
       "      <td>Aura &amp; Ziata</td>\n",
       "      <td>/lyrics/%21T.O.O.H.%21-6749</td>\n",
       "      <td>\\r\\r\\nAura a Ziata.\\r\\r\\r\\nDěvčata to k pohled...</td>\n",
       "    </tr>\n",
       "  </tbody>\n",
       "</table>\n",
       "</div>"
      ]
     },
     "execution_count": 3,
     "metadata": {},
     "output_type": "execute_result"
    }
   ],
   "source": [
    "df = pd.read_csv(\"./data/lyrics.csv\")\n",
    "df.head()"
   ]
  },
  {
   "cell_type": "code",
   "execution_count": 5,
   "metadata": {},
   "outputs": [
    {
     "name": "stdout",
     "output_type": "stream",
     "text": [
      "Error:  /lyrics-song/Acid-King-39-Lashes-161102\n"
     ]
    },
    {
     "name": "stdout",
     "output_type": "stream",
     "text": [
      "Error:  /lyrics-song/Arckanum-Gramr-Girnisk-165532\nError:  /lyrics-song/Arckanum-L%C3%A6-Elr-165531\n"
     ]
    },
    {
     "name": "stdout",
     "output_type": "stream",
     "text": [
      "Error:  /lyrics-song/Autumn%27s-Dawn-Dawn-109085\nError:  /lyrics-song/Autumn%27s-Dawn-Into-The-Cold-109081\n"
     ]
    },
    {
     "name": "stdout",
     "output_type": "stream",
     "text": [
      "Error:  /lyrics-song/Make-Them-Suffer-Contact-148320\n"
     ]
    },
    {
     "name": "stdout",
     "output_type": "stream",
     "text": [
      "Error:  /lyrics-song/Oranssi-Pazuzu-Vino-Verso-165317\n"
     ]
    },
    {
     "name": "stdout",
     "output_type": "stream",
     "text": [
      "Error:  /lyrics-song/Panychida-Alatyri-146335\nError:  /lyrics-song/Panychida-Doomsayer-146347\nError:  /lyrics-song/Panychida-O-orile-i-zmiji-146337\n"
     ]
    },
    {
     "name": "stdout",
     "output_type": "stream",
     "text": [
      "Error:  /lyrics-song/Sanitys-Dawn-Ich-will-K%C3%BChe-118153\n"
     ]
    },
    {
     "name": "stdout",
     "output_type": "stream",
     "text": [
      "Error:  /lyrics-song/z3r0c00l-1-aM-7h3-g0d-0f-b1nAry-58159\n"
     ]
    },
    {
     "data": {
      "text/html": [
       "<div>\n",
       "<style scoped>\n",
       "    .dataframe tbody tr th:only-of-type {\n",
       "        vertical-align: middle;\n",
       "    }\n",
       "\n",
       "    .dataframe tbody tr th {\n",
       "        vertical-align: top;\n",
       "    }\n",
       "\n",
       "    .dataframe thead th {\n",
       "        text-align: right;\n",
       "    }\n",
       "</style>\n",
       "<table border=\"1\" class=\"dataframe\">\n",
       "  <thead>\n",
       "    <tr style=\"text-align: right;\">\n",
       "      <th></th>\n",
       "      <th>Unnamed: 0</th>\n",
       "      <th>SongURL</th>\n",
       "      <th>SongName</th>\n",
       "      <th>BandURL</th>\n",
       "      <th>lyrics</th>\n",
       "      <th>language</th>\n",
       "    </tr>\n",
       "  </thead>\n",
       "  <tbody>\n",
       "    <tr>\n",
       "      <th>0</th>\n",
       "      <td>0</td>\n",
       "      <td>/lyrics-song/%21T.O.O.H.%21-Abu-Hassan-78298</td>\n",
       "      <td>Abu-Hassan</td>\n",
       "      <td>/lyrics/%21T.O.O.H.%21-6749</td>\n",
       "      <td>\\r\\r\\nTy hajzle, já mám tvojí dceru!\\r\\r\\r\\nZa...</td>\n",
       "      <td>cs</td>\n",
       "    </tr>\n",
       "    <tr>\n",
       "      <th>1</th>\n",
       "      <td>1</td>\n",
       "      <td>/lyrics-song/%21T.O.O.H.%21-Accident-78253</td>\n",
       "      <td>Accident</td>\n",
       "      <td>/lyrics/%21T.O.O.H.%21-6749</td>\n",
       "      <td>\\r\\r\\nEnglish lyrics:\\r\\r\\n\\r\\r\\r\\nI committed...</td>\n",
       "      <td>cs</td>\n",
       "    </tr>\n",
       "    <tr>\n",
       "      <th>2</th>\n",
       "      <td>2</td>\n",
       "      <td>/lyrics-song/%21T.O.O.H.%21-Al-Amin-%28Aneb-Ja...</td>\n",
       "      <td>Al-Amin (Aneb Jak Vycakat Jelito)</td>\n",
       "      <td>/lyrics/%21T.O.O.H.%21-6749</td>\n",
       "      <td>\\r\\r\\nV hlubokých lesích, temných hvozdech,… p...</td>\n",
       "      <td>cs</td>\n",
       "    </tr>\n",
       "    <tr>\n",
       "      <th>3</th>\n",
       "      <td>3</td>\n",
       "      <td>/lyrics-song/%21T.O.O.H.%21-Analyza-Zahnedy-78295</td>\n",
       "      <td>Analyza Zahnedy</td>\n",
       "      <td>/lyrics/%21T.O.O.H.%21-6749</td>\n",
       "      <td>\\r\\r\\nZa nádražím uzřít\\r\\r\\r\\nOpilé homeleso\\...</td>\n",
       "      <td>cs</td>\n",
       "    </tr>\n",
       "    <tr>\n",
       "      <th>4</th>\n",
       "      <td>4</td>\n",
       "      <td>/lyrics-song/%21T.O.O.H.%21-Aura-Ziata-78266</td>\n",
       "      <td>Aura &amp; Ziata</td>\n",
       "      <td>/lyrics/%21T.O.O.H.%21-6749</td>\n",
       "      <td>\\r\\r\\nAura a Ziata.\\r\\r\\r\\nDěvčata to k pohled...</td>\n",
       "      <td>cs</td>\n",
       "    </tr>\n",
       "  </tbody>\n",
       "</table>\n",
       "</div>"
      ],
      "text/plain": [
       "<div>\n",
       "<style scoped>\n",
       "    .dataframe tbody tr th:only-of-type {\n",
       "        vertical-align: middle;\n",
       "    }\n",
       "\n",
       "    .dataframe tbody tr th {\n",
       "        vertical-align: top;\n",
       "    }\n",
       "\n",
       "    .dataframe thead th {\n",
       "        text-align: right;\n",
       "    }\n",
       "</style>\n",
       "<table border=\"1\" class=\"dataframe\">\n",
       "  <thead>\n",
       "    <tr style=\"text-align: right;\">\n",
       "      <th></th>\n",
       "      <th>Unnamed: 0</th>\n",
       "      <th>SongURL</th>\n",
       "      <th>SongName</th>\n",
       "      <th>BandURL</th>\n",
       "      <th>lyrics</th>\n",
       "      <th>language</th>\n",
       "    </tr>\n",
       "  </thead>\n",
       "  <tbody>\n",
       "    <tr>\n",
       "      <th>0</th>\n",
       "      <td>0</td>\n",
       "      <td>/lyrics-song/%21T.O.O.H.%21-Abu-Hassan-78298</td>\n",
       "      <td>Abu-Hassan</td>\n",
       "      <td>/lyrics/%21T.O.O.H.%21-6749</td>\n",
       "      <td>\\r\\r\\nTy hajzle, já mám tvojí dceru!\\r\\r\\r\\nZa...</td>\n",
       "      <td>cs</td>\n",
       "    </tr>\n",
       "    <tr>\n",
       "      <th>1</th>\n",
       "      <td>1</td>\n",
       "      <td>/lyrics-song/%21T.O.O.H.%21-Accident-78253</td>\n",
       "      <td>Accident</td>\n",
       "      <td>/lyrics/%21T.O.O.H.%21-6749</td>\n",
       "      <td>\\r\\r\\nEnglish lyrics:\\r\\r\\n\\r\\r\\r\\nI committed...</td>\n",
       "      <td>cs</td>\n",
       "    </tr>\n",
       "    <tr>\n",
       "      <th>2</th>\n",
       "      <td>2</td>\n",
       "      <td>/lyrics-song/%21T.O.O.H.%21-Al-Amin-%28Aneb-Ja...</td>\n",
       "      <td>Al-Amin (Aneb Jak Vycakat Jelito)</td>\n",
       "      <td>/lyrics/%21T.O.O.H.%21-6749</td>\n",
       "      <td>\\r\\r\\nV hlubokých lesích, temných hvozdech,… p...</td>\n",
       "      <td>cs</td>\n",
       "    </tr>\n",
       "    <tr>\n",
       "      <th>3</th>\n",
       "      <td>3</td>\n",
       "      <td>/lyrics-song/%21T.O.O.H.%21-Analyza-Zahnedy-78295</td>\n",
       "      <td>Analyza Zahnedy</td>\n",
       "      <td>/lyrics/%21T.O.O.H.%21-6749</td>\n",
       "      <td>\\r\\r\\nZa nádražím uzřít\\r\\r\\r\\nOpilé homeleso\\...</td>\n",
       "      <td>cs</td>\n",
       "    </tr>\n",
       "    <tr>\n",
       "      <th>4</th>\n",
       "      <td>4</td>\n",
       "      <td>/lyrics-song/%21T.O.O.H.%21-Aura-Ziata-78266</td>\n",
       "      <td>Aura &amp; Ziata</td>\n",
       "      <td>/lyrics/%21T.O.O.H.%21-6749</td>\n",
       "      <td>\\r\\r\\nAura a Ziata.\\r\\r\\r\\nDěvčata to k pohled...</td>\n",
       "      <td>cs</td>\n",
       "    </tr>\n",
       "  </tbody>\n",
       "</table>\n",
       "</div>"
      ]
     },
     "execution_count": 5,
     "metadata": {},
     "output_type": "execute_result"
    }
   ],
   "source": [
    "def detect_language(record):\n",
    "    try:\n",
    "        return langdetect.detect(record.lyrics)\n",
    "    except:\n",
    "        print(\"Error: \", record.SongURL)\n",
    "        return \"ERROR\"\n",
    "\n",
    "df[\"language\"] = df.apply(detect_language, axis=1)\n",
    "df.head()"
   ]
  },
  {
   "cell_type": "code",
   "execution_count": 7,
   "metadata": {},
   "outputs": [
    {
     "data": {
      "text/plain": [
       "en       125805\nro         4580\nde         2555\nes         2388\nru         1439\nfr         1156\nfi          862\nko          797\nno          788\nsv          713\npl          617\npt          584\nja          562\nhu          415\ncs          412\nit          317\nsw          255\nid          246\nda          172\nnl          139\nhr          118\nca          101\nuk           75\nsk           70\nel           70\ntr           57\nlv           57\nzh-cn        56\net           53\nsl           33\nso           33\nbg           31\nvi           29\nbn           20\nlt           20\ncy           18\nfa           16\ntl           14\naf           14\nERROR        12\nar            7\nmk            6\nsq            3\nur            1\nName: language, dtype: int64"
      ]
     },
     "execution_count": 7,
     "metadata": {},
     "output_type": "execute_result"
    }
   ],
   "source": [
    "df[\"language\"].value_counts()"
   ]
  },
  {
   "cell_type": "code",
   "execution_count": 8,
   "metadata": {},
   "outputs": [],
   "source": [
    "df.to_csv(\"./data/lyrics_language.csv\")"
   ]
  },
  {
   "cell_type": "code",
   "execution_count": 9,
   "metadata": {},
   "outputs": [],
   "source": [
    "df_en = df[df.language == \"en\"]"
   ]
  },
  {
   "cell_type": "code",
   "execution_count": 11,
   "metadata": {},
   "outputs": [
    {
     "name": "stderr",
     "output_type": "stream",
     "text": [
      "C:\\Users\\cake\\AppData\\Local\\conda\\conda\\envs\\metalbirds\\lib\\site-packages\\ipykernel_launcher.py:1: SettingWithCopyWarning: \nA value is trying to be set on a copy of a slice from a DataFrame.\nTry using .loc[row_indexer,col_indexer] = value instead\n\nSee the caveats in the documentation: http://pandas.pydata.org/pandas-docs/stable/indexing.html#indexing-view-versus-copy\n  \"\"\"Entry point for launching an IPython kernel.\n"
     ]
    }
   ],
   "source": [
    "df_en[\"lyrics\"] = df_en[\"lyrics\"].apply(lambda x: x.lower())"
   ]
  },
  {
   "cell_type": "code",
   "execution_count": 12,
   "metadata": {},
   "outputs": [
    {
     "data": {
      "text/plain": [
       "7     \\r\\r\\nfollowing of bay windows\\r\\r\\r\\nannoying...\n8     \\r\\r\\nenglish lyrics:\\r\\r\\n\\r\\r\\r\\nfollowing o...\n10    \\r\\r\\nenglish lyrics:\\r\\r\\n\\r\\r\\r\\nthe canes s...\n24    \\r\\r\\nthe bell rings vehemently\\r\\r\\r\\nthe pos...\n25    \\r\\r\\nto sit on the source\\r\\r\\r\\nto poison th...\nName: lyrics, dtype: object"
      ]
     },
     "execution_count": 12,
     "metadata": {},
     "output_type": "execute_result"
    }
   ],
   "source": [
    "df_en[\"lyrics\"].head()"
   ]
  },
  {
   "cell_type": "code",
   "execution_count": 19,
   "metadata": {},
   "outputs": [],
   "source": [
    "import csv\n",
    "with open('./data/words.csv', 'r') as f:\n",
    "    reader = csv.reader(f)\n",
    "    birdlist = list(map(lambda x: x[0], reader))"
   ]
  },
  {
   "cell_type": "code",
   "execution_count": 2,
   "metadata": {
    "collapsed": false
   },
   "outputs": [
    {
     "ename": "NameError",
     "evalue": "name 'birdlist' is not defined",
     "traceback": [
      "\u001b[1;31m---------------------------------------------------------------------------\u001b[0m",
      "\u001b[1;31mNameError\u001b[0m                                 Traceback (most recent call last)",
      "\u001b[1;32m<ipython-input-2-c615a7f425fd>\u001b[0m in \u001b[0;36m<module>\u001b[1;34m()\u001b[0m\n\u001b[0;32m      1\u001b[0m \u001b[1;32mfrom\u001b[0m \u001b[0mcollections\u001b[0m \u001b[1;32mimport\u001b[0m \u001b[0mCounter\u001b[0m\u001b[1;33m\u001b[0m\u001b[0m\n\u001b[0;32m      2\u001b[0m \u001b[1;33m\u001b[0m\u001b[0m\n\u001b[1;32m----> 3\u001b[1;33m \u001b[1;32mdef\u001b[0m \u001b[0mcount_words\u001b[0m\u001b[1;33m(\u001b[0m\u001b[0mtext\u001b[0m\u001b[1;33m,\u001b[0m \u001b[0mwordlist\u001b[0m \u001b[1;33m=\u001b[0m \u001b[0mbirdlist\u001b[0m\u001b[1;33m)\u001b[0m\u001b[1;33m:\u001b[0m\u001b[1;33m\u001b[0m\u001b[0m\n\u001b[0m\u001b[0;32m      4\u001b[0m     \u001b[0mlemm\u001b[0m \u001b[1;33m=\u001b[0m \u001b[0mnltk\u001b[0m\u001b[1;33m.\u001b[0m\u001b[0mstem\u001b[0m\u001b[1;33m.\u001b[0m\u001b[0mWordNetLemmatizer\u001b[0m\u001b[1;33m(\u001b[0m\u001b[1;33m)\u001b[0m\u001b[1;33m\u001b[0m\u001b[0m\n\u001b[0;32m      5\u001b[0m     \u001b[0mtokens\u001b[0m \u001b[1;33m=\u001b[0m \u001b[0mnltk\u001b[0m\u001b[1;33m.\u001b[0m\u001b[0mtokenize\u001b[0m\u001b[1;33m.\u001b[0m\u001b[0mword_tokenize\u001b[0m\u001b[1;33m(\u001b[0m\u001b[0mtext\u001b[0m\u001b[1;33m)\u001b[0m\u001b[1;33m\u001b[0m\u001b[0m\n",
      "\u001b[1;31mNameError\u001b[0m: name 'birdlist' is not defined"
     ],
     "output_type": "error"
    }
   ],
   "source": [
    "from collections import Counter\n",
    "\n",
    "def count_words(text, wordlist = birdlist):\n",
    "    lemm = nltk.stem.WordNetLemmatizer()\n",
    "    tokens = nltk.tokenize.word_tokenize(text)\n",
    "    pos_tags = nltk.tag.pos_tag(tokens)\n",
    "    lemm_tokens = map(lambda x: (lemm.lemmatize(x[0],x[1]), x[1]), pos_tags)\n",
    "    nouns = list(map(lambda x: x[0],filter(lambda x: x[1].startswith(\"N\"), lemm_tokens)))\n",
    "    music_count = Counter()\n",
    "    word_count = Counter()\n",
    "    for word in wordlist:\n",
    "        count = nouns.count(word)\n",
    "        if count > 0:            \n",
    "            music_count[word] = 1\n",
    "            word_count[word] = count\n",
    "    return music_count, word_count\n",
    "\n",
    "full_music = Counter()\n",
    "full_word = Counter()\n",
    "\n",
    "for idx, row in df_en.iterrows():\n",
    "    music_count, word_count = count_words(row.lyrics)\n",
    "    if music_count[\"ostrich\"] > 0:\n",
    "        print(row.SongURL)\n",
    "    full_music += music_count\n",
    "    full_word += word_count\n",
    "    \n",
    "print(full_music)\n",
    "print(full_word)"
   ]
  },
  {
   "cell_type": "code",
   "execution_count": 32,
   "metadata": {
    "collapsed": false
   },
   "outputs": [
    {
     "data": {
      "text/plain": [
       "(125805, 6)"
      ]
     },
     "execution_count": 32,
     "metadata": {},
     "output_type": "execute_result"
    }
   ],
   "source": [
    "df_en.shape"
   ]
  },
  {
   "cell_type": "code",
   "execution_count": 40,
   "metadata": {},
   "outputs": [
    {
     "ename": "TypeError",
     "evalue": "unsupported operand type(s) for +: 'int' and 'str'",
     "traceback": [
      "\u001b[1;31m---------------------------------------------------------------------------\u001b[0m",
      "\u001b[1;31mTypeError\u001b[0m                                 Traceback (most recent call last)",
      "\u001b[1;32m<ipython-input-40-b6e26aae39af>\u001b[0m in \u001b[0;36m<module>\u001b[1;34m()\u001b[0m\n\u001b[1;32m----> 1\u001b[1;33m \u001b[0msum\u001b[0m\u001b[1;33m(\u001b[0m\u001b[0mfull_music\u001b[0m\u001b[1;33m)\u001b[0m\u001b[1;33m\u001b[0m\u001b[0m\n\u001b[0m",
      "\u001b[1;31mTypeError\u001b[0m: unsupported operand type(s) for +: 'int' and 'str'"
     ],
     "output_type": "error"
    }
   ],
   "source": [
    ""
   ]
  },
  {
   "cell_type": "code",
   "execution_count": null,
   "metadata": {},
   "outputs": [],
   "source": [
    ""
   ]
  }
 ],
 "metadata": {
  "kernelspec": {
   "display_name": "Python 2",
   "language": "python",
   "name": "python2"
  },
  "language_info": {
   "codemirror_mode": {
    "name": "ipython",
    "version": 2.0
   },
   "file_extension": ".py",
   "mimetype": "text/x-python",
   "name": "python",
   "nbconvert_exporter": "python",
   "pygments_lexer": "ipython2",
   "version": "2.7.6"
  }
 },
 "nbformat": 4,
 "nbformat_minor": 0
}