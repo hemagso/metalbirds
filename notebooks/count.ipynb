{
 "cells": [
  {
   "cell_type": "code",
   "execution_count": 45,
   "metadata": {
    "collapsed": true
   },
   "outputs": [
    {
     "name": "stdout",
     "output_type": "stream",
     "text": [
      "[nltk_data] Downloading package averaged_perceptron_tagger to\n[nltk_data]     C:\\Users\\cake\\AppData\\Roaming\\nltk_data...\n[nltk_data]   Package averaged_perceptron_tagger is already up-to-\n[nltk_data]       date!\n[nltk_data] Downloading package wordnet to\n[nltk_data]     C:\\Users\\cake\\AppData\\Roaming\\nltk_data...\n[nltk_data]   Package wordnet is already up-to-date!\n"
     ]
    },
    {
     "data": {
      "text/plain": [
       "True"
      ]
     },
     "execution_count": 45,
     "metadata": {},
     "output_type": "execute_result"
    }
   ],
   "source": [
    "import nltk\n",
    "import pandas as pd\n",
    "import csv\n",
    "from collections import Counter\n",
    "\n",
    "nltk.download('averaged_perceptron_tagger')\n",
    "nltk.download('wordnet')"
   ]
  },
  {
   "cell_type": "code",
   "execution_count": 46,
   "metadata": {},
   "outputs": [],
   "source": [
    "df = pd.read_csv(\"./data/lyrics_language.csv\")\n",
    "df_en = df[df.language == \"en\"]"
   ]
  },
  {
   "cell_type": "code",
   "execution_count": 47,
   "metadata": {},
   "outputs": [],
   "source": [
    "with open('./data/words.csv', 'r') as f:\n",
    "    reader = csv.reader(f)\n",
    "    birdlist = list(map(lambda x: x[0], reader))\n",
    "    \n",
    "lemm = nltk.stem.WordNetLemmatizer()\n",
    "birdlist = list(map(lemm.lemmatize,birdlist))"
   ]
  },
  {
   "cell_type": "code",
   "execution_count": 48,
   "metadata": {},
   "outputs": [],
   "source": [
    "class DerivedLemmatizer (nltk.stem.WordNetLemmatizer):\n",
    "    def __init__(self):\n",
    "        super().__init__()\n",
    "    \n",
    "    def _convert_tags(self, tag):\n",
    "        if tag.startswith(\"J\"):\n",
    "            return nltk.corpus.wordnet.ADJ\n",
    "        elif tag.startswith(\"V\"):\n",
    "            return nltk.corpus.wordnet.VERB   \n",
    "        elif tag.startswith(\"N\"):\n",
    "            return nltk.corpus.wordnet.NOUN\n",
    "        elif tag.startswith(\"R\"):\n",
    "            return nltk.corpus.wordnet.ADV\n",
    "        else:\n",
    "            return nltk.corpus.wordnet.NOUN\n",
    "    \n",
    "    def lemmatize(self, word, pos = nltk.corpus.wordnet.NOUN):\n",
    "        wn_tag = self._convert_tags(pos)\n",
    "        return super().lemmatize(word,wn_tag)        \n",
    "        \n",
    "def get_nouns(text):\n",
    "    tokens = nltk.tokenize.word_tokenize(text)\n",
    "    pos = nltk.tag.pos_tag(tokens)\n",
    "    lem = DerivedLemmatizer()\n",
    "    lem_tokens = map(lambda x: (lem.lemmatize(x[0],x[1]), x[1]), pos)\n",
    "    nouns_tokens = filter(lambda x: x[1].startswith(\"N\"), lem_tokens)\n",
    "    nouns = map(lambda x: x[0], nouns_tokens)\n",
    "    return list(nouns)\n",
    "\n",
    "def count_words(text, wordlist = birdlist):\n",
    "    music_count = Counter()\n",
    "    word_count = Counter()    \n",
    "    nouns = get_nouns(text)\n",
    "    for word in wordlist:\n",
    "        count = nouns.count(word)\n",
    "        if count > 0:            \n",
    "            music_count[word] = 1\n",
    "            word_count[word] = count\n",
    "    return music_count, word_count"
   ]
  },
  {
   "cell_type": "code",
   "execution_count": 49,
   "metadata": {
    "collapsed": false
   },
   "outputs": [
    {
     "name": "stdout",
     "output_type": "stream",
     "text": [
      "Counter({'bird': 1169, 'tyrant': 678, 'raven': 641, 'vulture': 541, 'eagle': 535, 'crow': 401, 'dove': 216, 'swan': 158, 'owl': 142, 'swift': 124, 'swallow': 96, 'hawk': 81, 'falcon': 71, 'roller': 68, 'chicken': 46, 'sparrow': 43, 'duck': 39, 'nightingale': 30, 'pigeon': 29, 'crane': 28, 'kite': 27, 'raptor': 24, 'albatross': 22, 'gull': 18, 'blackbird': 17, 'lark': 16, 'peacock': 15, 'goose': 15, 'rooster': 13, 'rook': 13, 'heron': 12, 'condor': 12, 'buzzard': 11, 'magpie': 10, 'turkey': 9, 'parrot': 9, 'quail': 8, 'robin': 6, 'jay': 5, 'thrush': 4, 'cuckoo': 4, 'hummingbird': 4, 'woodpecker': 4, 'mockingbird': 4, 'shrike': 3, 'snipe': 3, 'ibis': 3, 'penguin': 3, 'stork': 3, 'puffin': 2, 'starling': 2, 'cockerel': 2, 'finch': 2, 'ostrich': 2, 'chickadee': 2, 'grouse': 2, 'cormorant': 2, 'macaw': 1, 'petrel': 1, 'kestrel': 1, 'wheatear': 1, 'toucan': 1, 'nightjar': 1, 'parakeet': 1})\nCounter({'bird': 1531, 'tyrant': 951, 'eagle': 871, 'raven': 860, 'vulture': 678, 'crow': 546, 'dove': 266, 'swan': 212, 'owl': 175, 'roller': 150, 'swift': 140, 'hawk': 120, 'swallow': 117, 'falcon': 115, 'duck': 62, 'chicken': 59, 'sparrow': 50, 'crane': 41, 'raptor': 40, 'pigeon': 39, 'kite': 35, 'albatross': 33, 'nightingale': 33, 'blackbird': 26, 'condor': 24, 'gull': 23, 'peacock': 22, 'heron': 21, 'lark': 18, 'goose': 16, 'rooster': 15, 'rook': 14, 'magpie': 14, 'parrot': 12, 'buzzard': 11, 'cuckoo': 10, 'quail': 9, 'turkey': 9, 'mockingbird': 8, 'hummingbird': 7, 'robin': 6, 'jay': 5, 'ibis': 5, 'thrush': 4, 'shrike': 4, 'woodpecker': 4, 'starling': 3, 'cockerel': 3, 'snipe': 3, 'grouse': 3, 'penguin': 3, 'stork': 3, 'puffin': 2, 'finch': 2, 'ostrich': 2, 'chickadee': 2, 'cormorant': 2, 'nightjar': 2, 'macaw': 1, 'petrel': 1, 'kestrel': 1, 'wheatear': 1, 'toucan': 1, 'parakeet': 1})\n"
     ]
    }
   ],
   "source": [
    "full_music = Counter()\n",
    "full_word = Counter()\n",
    "\n",
    "for idx, row in df_en.iterrows():\n",
    "    music_count, word_count = count_words(row.lyrics)\n",
    "    full_music += music_count\n",
    "    full_word += word_count\n",
    "    \n",
    "print(full_music)\n",
    "print(full_word)"
   ]
  },
  {
   "cell_type": "code",
   "execution_count": null,
   "metadata": {},
   "outputs": [],
   "source": [
    ""
   ]
  }
 ],
 "metadata": {
  "kernelspec": {
   "display_name": "Python 2",
   "language": "python",
   "name": "python2"
  },
  "language_info": {
   "codemirror_mode": {
    "name": "ipython",
    "version": 2.0
   },
   "file_extension": ".py",
   "mimetype": "text/x-python",
   "name": "python",
   "nbconvert_exporter": "python",
   "pygments_lexer": "ipython2",
   "version": "2.7.6"
  }
 },
 "nbformat": 4,
 "nbformat_minor": 0
}